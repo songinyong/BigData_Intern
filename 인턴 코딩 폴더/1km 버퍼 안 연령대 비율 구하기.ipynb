{
 "cells": [
  {
   "cell_type": "code",
   "execution_count": 2,
   "metadata": {},
   "outputs": [],
   "source": [
    "import pandas as pd"
   ]
  },
  {
   "cell_type": "code",
   "execution_count": 12,
   "metadata": {
    "scrolled": true
   },
   "outputs": [],
   "source": [
    "data = pd.read_csv('분석.csv')"
   ]
  },
  {
   "cell_type": "code",
   "execution_count": 21,
   "metadata": {},
   "outputs": [],
   "source": [
    "data2 = pd.read_csv('격자데이터_2.csv')"
   ]
  },
  {
   "cell_type": "code",
   "execution_count": 22,
   "metadata": {},
   "outputs": [
    {
     "data": {
      "text/html": [
       "<div>\n",
       "<style scoped>\n",
       "    .dataframe tbody tr th:only-of-type {\n",
       "        vertical-align: middle;\n",
       "    }\n",
       "\n",
       "    .dataframe tbody tr th {\n",
       "        vertical-align: top;\n",
       "    }\n",
       "\n",
       "    .dataframe thead th {\n",
       "        text-align: right;\n",
       "    }\n",
       "</style>\n",
       "<table border=\"1\" class=\"dataframe\">\n",
       "  <thead>\n",
       "    <tr style=\"text-align: right;\">\n",
       "      <th></th>\n",
       "      <th>gid</th>\n",
       "      <th>val</th>\n",
       "      <th>역이름</th>\n",
       "      <th>존재여부</th>\n",
       "      <th>동</th>\n",
       "      <th>구</th>\n",
       "    </tr>\n",
       "  </thead>\n",
       "  <tbody>\n",
       "    <tr>\n",
       "      <th>0</th>\n",
       "      <td>다바92ba27ba</td>\n",
       "      <td>206.0</td>\n",
       "      <td>신탄진</td>\n",
       "      <td>기존</td>\n",
       "      <td>신탄진동</td>\n",
       "      <td>대덕구</td>\n",
       "    </tr>\n",
       "    <tr>\n",
       "      <th>1</th>\n",
       "      <td>다바92ba27bb</td>\n",
       "      <td>45.0</td>\n",
       "      <td>신탄진</td>\n",
       "      <td>기존</td>\n",
       "      <td>신탄진동</td>\n",
       "      <td>대덕구</td>\n",
       "    </tr>\n",
       "    <tr>\n",
       "      <th>2</th>\n",
       "      <td>다바92ba28aa</td>\n",
       "      <td>NaN</td>\n",
       "      <td>신탄진</td>\n",
       "      <td>기존</td>\n",
       "      <td>신탄진동</td>\n",
       "      <td>대덕구</td>\n",
       "    </tr>\n",
       "    <tr>\n",
       "      <th>3</th>\n",
       "      <td>다바92ba28ab</td>\n",
       "      <td>932.0</td>\n",
       "      <td>신탄진</td>\n",
       "      <td>기존</td>\n",
       "      <td>신탄진동</td>\n",
       "      <td>대덕구</td>\n",
       "    </tr>\n",
       "    <tr>\n",
       "      <th>4</th>\n",
       "      <td>다바92ba28ba</td>\n",
       "      <td>NaN</td>\n",
       "      <td>신탄진</td>\n",
       "      <td>기존</td>\n",
       "      <td>신탄진동</td>\n",
       "      <td>대덕구</td>\n",
       "    </tr>\n",
       "  </tbody>\n",
       "</table>\n",
       "</div>"
      ],
      "text/plain": [
       "          gid    val  역이름 존재여부     동    구\n",
       "0  다바92ba27ba  206.0  신탄진   기존  신탄진동  대덕구\n",
       "1  다바92ba27bb   45.0  신탄진   기존  신탄진동  대덕구\n",
       "2  다바92ba28aa    NaN  신탄진   기존  신탄진동  대덕구\n",
       "3  다바92ba28ab  932.0  신탄진   기존  신탄진동  대덕구\n",
       "4  다바92ba28ba    NaN  신탄진   기존  신탄진동  대덕구"
      ]
     },
     "execution_count": 22,
     "metadata": {},
     "output_type": "execute_result"
    }
   ],
   "source": [
    "data2.head()"
   ]
  },
  {
   "cell_type": "code",
   "execution_count": 26,
   "metadata": {},
   "outputs": [
    {
     "name": "stdout",
     "output_type": "stream",
     "text": [
      "30087.0\n",
      "8809.0\n",
      "53617.0\n",
      "67699.0\n",
      "77958.0\n",
      "29610.0\n",
      "773.0\n"
     ]
    }
   ],
   "source": [
    "for i in range(0,len(list)):\n",
    "    \n",
    "    print(sum(data2[(data2['역이름']==list[i])]['val'].dropna()))\n",
    "  "
   ]
  },
  {
   "cell_type": "code",
   "execution_count": 13,
   "metadata": {},
   "outputs": [
    {
     "data": {
      "text/html": [
       "<div>\n",
       "<style scoped>\n",
       "    .dataframe tbody tr th:only-of-type {\n",
       "        vertical-align: middle;\n",
       "    }\n",
       "\n",
       "    .dataframe tbody tr th {\n",
       "        vertical-align: top;\n",
       "    }\n",
       "\n",
       "    .dataframe thead th {\n",
       "        text-align: right;\n",
       "    }\n",
       "</style>\n",
       "<table border=\"1\" class=\"dataframe\">\n",
       "  <thead>\n",
       "    <tr style=\"text-align: right;\">\n",
       "      <th></th>\n",
       "      <th>gid</th>\n",
       "      <th>val</th>\n",
       "      <th>layer</th>\n",
       "      <th>adm_dr_nm</th>\n",
       "      <th>역이름</th>\n",
       "      <th>존재여부</th>\n",
       "      <th>동</th>\n",
       "      <th>구</th>\n",
       "    </tr>\n",
       "  </thead>\n",
       "  <tbody>\n",
       "    <tr>\n",
       "      <th>0</th>\n",
       "      <td>다바93ab28ab</td>\n",
       "      <td>NaN</td>\n",
       "      <td>격자데이터_100세이상</td>\n",
       "      <td>신탄진동</td>\n",
       "      <td>신탄진</td>\n",
       "      <td>기존</td>\n",
       "      <td>신탄진동</td>\n",
       "      <td>대덕구</td>\n",
       "    </tr>\n",
       "    <tr>\n",
       "      <th>1</th>\n",
       "      <td>다바93ab28ba</td>\n",
       "      <td>NaN</td>\n",
       "      <td>격자데이터_100세이상</td>\n",
       "      <td>신탄진동</td>\n",
       "      <td>신탄진</td>\n",
       "      <td>기존</td>\n",
       "      <td>신탄진동</td>\n",
       "      <td>대덕구</td>\n",
       "    </tr>\n",
       "    <tr>\n",
       "      <th>2</th>\n",
       "      <td>다바93ab28bb</td>\n",
       "      <td>NaN</td>\n",
       "      <td>격자데이터_100세이상</td>\n",
       "      <td>신탄진동</td>\n",
       "      <td>신탄진</td>\n",
       "      <td>기존</td>\n",
       "      <td>신탄진동</td>\n",
       "      <td>대덕구</td>\n",
       "    </tr>\n",
       "    <tr>\n",
       "      <th>3</th>\n",
       "      <td>다바93ba27aa</td>\n",
       "      <td>NaN</td>\n",
       "      <td>격자데이터_100세이상</td>\n",
       "      <td>신탄진동</td>\n",
       "      <td>신탄진</td>\n",
       "      <td>기존</td>\n",
       "      <td>신탄진동</td>\n",
       "      <td>대덕구</td>\n",
       "    </tr>\n",
       "    <tr>\n",
       "      <th>4</th>\n",
       "      <td>다바93ba27ab</td>\n",
       "      <td>0.0</td>\n",
       "      <td>격자데이터_100세이상</td>\n",
       "      <td>신탄진동</td>\n",
       "      <td>신탄진</td>\n",
       "      <td>기존</td>\n",
       "      <td>신탄진동</td>\n",
       "      <td>대덕구</td>\n",
       "    </tr>\n",
       "  </tbody>\n",
       "</table>\n",
       "</div>"
      ],
      "text/plain": [
       "          gid  val         layer adm_dr_nm  역이름 존재여부     동    구\n",
       "0  다바93ab28ab  NaN  격자데이터_100세이상      신탄진동  신탄진   기존  신탄진동  대덕구\n",
       "1  다바93ab28ba  NaN  격자데이터_100세이상      신탄진동  신탄진   기존  신탄진동  대덕구\n",
       "2  다바93ab28bb  NaN  격자데이터_100세이상      신탄진동  신탄진   기존  신탄진동  대덕구\n",
       "3  다바93ba27aa  NaN  격자데이터_100세이상      신탄진동  신탄진   기존  신탄진동  대덕구\n",
       "4  다바93ba27ab  0.0  격자데이터_100세이상      신탄진동  신탄진   기존  신탄진동  대덕구"
      ]
     },
     "execution_count": 13,
     "metadata": {},
     "output_type": "execute_result"
    }
   ],
   "source": [
    "data.head()"
   ]
  },
  {
   "cell_type": "code",
   "execution_count": 14,
   "metadata": {},
   "outputs": [
    {
     "data": {
      "text/plain": [
       "array(['신탄진', '회덕', '중촌', '용두', '서대전', '가수원', '흑석리'], dtype=object)"
      ]
     },
     "execution_count": 14,
     "metadata": {},
     "output_type": "execute_result"
    }
   ],
   "source": [
    "list = data['역이름'].unique()\n",
    "list"
   ]
  },
  {
   "cell_type": "code",
   "execution_count": 15,
   "metadata": {},
   "outputs": [],
   "source": [
    "buffer_age = pd.DataFrame(columns=['역이름', '20대', '30대', '40대', '50대', '60대', '70대', '80대', '90대','100대' ,'총인구수'])"
   ]
  },
  {
   "cell_type": "code",
   "execution_count": 16,
   "metadata": {},
   "outputs": [
    {
     "data": {
      "text/html": [
       "<div>\n",
       "<style scoped>\n",
       "    .dataframe tbody tr th:only-of-type {\n",
       "        vertical-align: middle;\n",
       "    }\n",
       "\n",
       "    .dataframe tbody tr th {\n",
       "        vertical-align: top;\n",
       "    }\n",
       "\n",
       "    .dataframe thead th {\n",
       "        text-align: right;\n",
       "    }\n",
       "</style>\n",
       "<table border=\"1\" class=\"dataframe\">\n",
       "  <thead>\n",
       "    <tr style=\"text-align: right;\">\n",
       "      <th></th>\n",
       "      <th>역이름</th>\n",
       "      <th>20대</th>\n",
       "      <th>30대</th>\n",
       "      <th>40대</th>\n",
       "      <th>50대</th>\n",
       "      <th>60대</th>\n",
       "      <th>70대</th>\n",
       "      <th>80대</th>\n",
       "      <th>90대</th>\n",
       "      <th>100대</th>\n",
       "      <th>총인구수</th>\n",
       "    </tr>\n",
       "  </thead>\n",
       "  <tbody>\n",
       "  </tbody>\n",
       "</table>\n",
       "</div>"
      ],
      "text/plain": [
       "Empty DataFrame\n",
       "Columns: [역이름, 20대, 30대, 40대, 50대, 60대, 70대, 80대, 90대, 100대, 총인구수]\n",
       "Index: []"
      ]
     },
     "execution_count": 16,
     "metadata": {},
     "output_type": "execute_result"
    }
   ],
   "source": [
    "buffer_age"
   ]
  },
  {
   "cell_type": "code",
   "execution_count": 17,
   "metadata": {},
   "outputs": [],
   "source": [
    "age = 20\n",
    "for i in range(0,len(list)):\n",
    "    list2 = []\n",
    "    list2.append(data[(data['역이름']==list[i])]['역이름'].unique())\n",
    "    for j in range(1, 10):\n",
    "        \n",
    "        list2.append(sum(data[(data['역이름']==list[i]) & (data['layer']== '격자데이터_{}대'.format(age))]['val'].dropna()))\n",
    "        age = age +10\n",
    "    list2.append(sum(data[(data['역이름']==list[i])]['val'].dropna()))\n",
    "    buffer_age.loc[i] = (list2[0],list2[1],list2[2],list2[3],list2[4],list2[5],list2[6],list2[7],list2[8],list2[9],list2[10])\n",
    "    age = 20\n"
   ]
  },
  {
   "cell_type": "code",
   "execution_count": 18,
   "metadata": {},
   "outputs": [
    {
     "data": {
      "text/html": [
       "<div>\n",
       "<style scoped>\n",
       "    .dataframe tbody tr th:only-of-type {\n",
       "        vertical-align: middle;\n",
       "    }\n",
       "\n",
       "    .dataframe tbody tr th {\n",
       "        vertical-align: top;\n",
       "    }\n",
       "\n",
       "    .dataframe thead th {\n",
       "        text-align: right;\n",
       "    }\n",
       "</style>\n",
       "<table border=\"1\" class=\"dataframe\">\n",
       "  <thead>\n",
       "    <tr style=\"text-align: right;\">\n",
       "      <th></th>\n",
       "      <th>역이름</th>\n",
       "      <th>20대</th>\n",
       "      <th>30대</th>\n",
       "      <th>40대</th>\n",
       "      <th>50대</th>\n",
       "      <th>60대</th>\n",
       "      <th>70대</th>\n",
       "      <th>80대</th>\n",
       "      <th>90대</th>\n",
       "      <th>100대</th>\n",
       "      <th>총인구수</th>\n",
       "    </tr>\n",
       "  </thead>\n",
       "  <tbody>\n",
       "    <tr>\n",
       "      <th>0</th>\n",
       "      <td>[신탄진]</td>\n",
       "      <td>4932.0</td>\n",
       "      <td>5109.0</td>\n",
       "      <td>6033.0</td>\n",
       "      <td>6803.0</td>\n",
       "      <td>5432.0</td>\n",
       "      <td>2626.0</td>\n",
       "      <td>1387.0</td>\n",
       "      <td>108.0</td>\n",
       "      <td>0</td>\n",
       "      <td>32430.0</td>\n",
       "    </tr>\n",
       "    <tr>\n",
       "      <th>1</th>\n",
       "      <td>[회덕]</td>\n",
       "      <td>1153.0</td>\n",
       "      <td>808.0</td>\n",
       "      <td>1298.0</td>\n",
       "      <td>1716.0</td>\n",
       "      <td>1411.0</td>\n",
       "      <td>530.0</td>\n",
       "      <td>341.0</td>\n",
       "      <td>36.0</td>\n",
       "      <td>0</td>\n",
       "      <td>7293.0</td>\n",
       "    </tr>\n",
       "    <tr>\n",
       "      <th>2</th>\n",
       "      <td>[중촌]</td>\n",
       "      <td>14559.0</td>\n",
       "      <td>12333.0</td>\n",
       "      <td>15952.0</td>\n",
       "      <td>15212.0</td>\n",
       "      <td>12170.0</td>\n",
       "      <td>6770.0</td>\n",
       "      <td>3312.0</td>\n",
       "      <td>409.0</td>\n",
       "      <td>0</td>\n",
       "      <td>80717.0</td>\n",
       "    </tr>\n",
       "    <tr>\n",
       "      <th>3</th>\n",
       "      <td>[용두]</td>\n",
       "      <td>18037.0</td>\n",
       "      <td>15792.0</td>\n",
       "      <td>19975.0</td>\n",
       "      <td>19267.0</td>\n",
       "      <td>15939.0</td>\n",
       "      <td>9336.0</td>\n",
       "      <td>4669.0</td>\n",
       "      <td>646.0</td>\n",
       "      <td>0</td>\n",
       "      <td>103661.0</td>\n",
       "    </tr>\n",
       "    <tr>\n",
       "      <th>4</th>\n",
       "      <td>[서대전]</td>\n",
       "      <td>18714.0</td>\n",
       "      <td>16705.0</td>\n",
       "      <td>22211.0</td>\n",
       "      <td>22592.0</td>\n",
       "      <td>19198.0</td>\n",
       "      <td>12376.0</td>\n",
       "      <td>6385.0</td>\n",
       "      <td>981.0</td>\n",
       "      <td>0</td>\n",
       "      <td>119162.0</td>\n",
       "    </tr>\n",
       "    <tr>\n",
       "      <th>5</th>\n",
       "      <td>[가수원]</td>\n",
       "      <td>4554.0</td>\n",
       "      <td>3878.0</td>\n",
       "      <td>4698.0</td>\n",
       "      <td>5647.0</td>\n",
       "      <td>4931.0</td>\n",
       "      <td>2271.0</td>\n",
       "      <td>1094.0</td>\n",
       "      <td>180.0</td>\n",
       "      <td>0</td>\n",
       "      <td>27253.0</td>\n",
       "    </tr>\n",
       "    <tr>\n",
       "      <th>6</th>\n",
       "      <td>[흑석리]</td>\n",
       "      <td>28.0</td>\n",
       "      <td>8.0</td>\n",
       "      <td>56.0</td>\n",
       "      <td>63.0</td>\n",
       "      <td>112.0</td>\n",
       "      <td>98.0</td>\n",
       "      <td>70.0</td>\n",
       "      <td>9.0</td>\n",
       "      <td>0</td>\n",
       "      <td>444.0</td>\n",
       "    </tr>\n",
       "  </tbody>\n",
       "</table>\n",
       "</div>"
      ],
      "text/plain": [
       "     역이름      20대      30대      40대      50대      60대      70대     80대    90대  \\\n",
       "0  [신탄진]   4932.0   5109.0   6033.0   6803.0   5432.0   2626.0  1387.0  108.0   \n",
       "1   [회덕]   1153.0    808.0   1298.0   1716.0   1411.0    530.0   341.0   36.0   \n",
       "2   [중촌]  14559.0  12333.0  15952.0  15212.0  12170.0   6770.0  3312.0  409.0   \n",
       "3   [용두]  18037.0  15792.0  19975.0  19267.0  15939.0   9336.0  4669.0  646.0   \n",
       "4  [서대전]  18714.0  16705.0  22211.0  22592.0  19198.0  12376.0  6385.0  981.0   \n",
       "5  [가수원]   4554.0   3878.0   4698.0   5647.0   4931.0   2271.0  1094.0  180.0   \n",
       "6  [흑석리]     28.0      8.0     56.0     63.0    112.0     98.0    70.0    9.0   \n",
       "\n",
       "  100대      총인구수  \n",
       "0    0   32430.0  \n",
       "1    0    7293.0  \n",
       "2    0   80717.0  \n",
       "3    0  103661.0  \n",
       "4    0  119162.0  \n",
       "5    0   27253.0  \n",
       "6    0     444.0  "
      ]
     },
     "execution_count": 18,
     "metadata": {},
     "output_type": "execute_result"
    }
   ],
   "source": [
    "buffer_age"
   ]
  },
  {
   "cell_type": "code",
   "execution_count": 19,
   "metadata": {},
   "outputs": [],
   "source": [
    "buffer_age.to_excel('1km 버퍼 인구 비율3.xlsx')"
   ]
  },
  {
   "cell_type": "code",
   "execution_count": null,
   "metadata": {},
   "outputs": [],
   "source": []
  }
 ],
 "metadata": {
  "kernelspec": {
   "display_name": "Python 3",
   "language": "python",
   "name": "python3"
  },
  "language_info": {
   "codemirror_mode": {
    "name": "ipython",
    "version": 3
   },
   "file_extension": ".py",
   "mimetype": "text/x-python",
   "name": "python",
   "nbconvert_exporter": "python",
   "pygments_lexer": "ipython3",
   "version": "3.8.3"
  }
 },
 "nbformat": 4,
 "nbformat_minor": 4
}
