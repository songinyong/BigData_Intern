{
 "cells": [
  {
   "cell_type": "code",
   "execution_count": 1,
   "metadata": {},
   "outputs": [
    {
     "data": {
      "text/html": [
       "87.2"
      ],
      "text/latex": [
       "87.2"
      ],
      "text/markdown": [
       "87.2"
      ],
      "text/plain": [
       "[1] 87.2"
      ]
     },
     "metadata": {},
     "output_type": "display_data"
    }
   ],
   "source": [
    "score <-c(85, 90, 93, 86, 82)\n",
    "mean(score)"
   ]
  },
  {
   "cell_type": "code",
   "execution_count": 2,
   "metadata": {},
   "outputs": [
    {
     "data": {
      "text/html": [
       "86"
      ],
      "text/latex": [
       "86"
      ],
      "text/markdown": [
       "86"
      ],
      "text/plain": [
       "[1] 86"
      ]
     },
     "metadata": {},
     "output_type": "display_data"
    }
   ],
   "source": [
    "median(score)"
   ]
  },
  {
   "cell_type": "code",
   "execution_count": 3,
   "metadata": {},
   "outputs": [
    {
     "data": {
      "text/html": [
       "18.7"
      ],
      "text/latex": [
       "18.7"
      ],
      "text/markdown": [
       "18.7"
      ],
      "text/plain": [
       "[1] 18.7"
      ]
     },
     "metadata": {},
     "output_type": "display_data"
    }
   ],
   "source": [
    "var(score)"
   ]
  },
  {
   "cell_type": "code",
   "execution_count": 4,
   "metadata": {},
   "outputs": [
    {
     "data": {
      "text/html": [
       "4.32434966208793"
      ],
      "text/latex": [
       "4.32434966208793"
      ],
      "text/markdown": [
       "4.32434966208793"
      ],
      "text/plain": [
       "[1] 4.32435"
      ]
     },
     "metadata": {},
     "output_type": "display_data"
    }
   ],
   "source": [
    "sd(score)"
   ]
  },
  {
   "cell_type": "code",
   "execution_count": 6,
   "metadata": {},
   "outputs": [
    {
     "data": {
      "image/png": "[encoded data removed]",
      "text/plain": [
       "Plot with title \"Histogram of height\""
      ]
     },
     "metadata": {},
     "output_type": "display_data"
    }
   ],
   "source": [
    "height <- rnorm(n=1000000, mean=168, sd=7)\n",
    "hist(height, breaks=100, probability=T)"
   ]
  },
  {
   "cell_type": "code",
   "execution_count": 7,
   "metadata": {},
   "outputs": [],
   "source": [
    "x <- c(15, 10, 13, 7, 9, 8, 21, 9, 14, 8)"
   ]
  },
  {
   "cell_type": "code",
   "execution_count": 8,
   "metadata": {},
   "outputs": [
    {
     "data": {
      "text/plain": [
       "\n",
       "\tShapiro-Wilk normality test\n",
       "\n",
       "data:  x\n",
       "W = 0.86663, p-value = 0.09131\n"
      ]
     },
     "metadata": {},
     "output_type": "display_data"
    },
    {
     "data": {
      "text/plain": [
       "\n",
       "\tShapiro-Wilk normality test\n",
       "\n",
       "data:  y\n",
       "W = 0.91249, p-value = 0.2986\n"
      ]
     },
     "metadata": {},
     "output_type": "display_data"
    }
   ],
   "source": [
    "y <-c(15,14,12,8,14,7,16,10,15,12)\n",
    "shapiro.test(x)\n",
    "shapiro.test(y)"
   ]
  },
  {
   "cell_type": "code",
   "execution_count": 9,
   "metadata": {},
   "outputs": [
    {
     "data": {
      "text/plain": [
       "\n",
       "\tWelch Two Sample t-test\n",
       "\n",
       "data:  x and y\n",
       "t = -0.53311, df = 16.245, p-value = 0.6012\n",
       "alternative hypothesis: true difference in means is not equal to 0\n",
       "95 percent confidence interval:\n",
       " -4.474425  2.674425\n",
       "sample estimates:\n",
       "mean of x mean of y \n",
       "     11.4      12.3 \n"
      ]
     },
     "metadata": {},
     "output_type": "display_data"
    }
   ],
   "source": [
    "t.test(x,y)"
   ]
  },
  {
   "cell_type": "code",
   "execution_count": 10,
   "metadata": {},
   "outputs": [
    {
     "data": {
      "text/plain": [
       "\n",
       "\tShapiro-Wilk normality test\n",
       "\n",
       "data:  x\n",
       "W = 0.93924, p-value = 0.6037\n"
      ]
     },
     "metadata": {},
     "output_type": "display_data"
    },
    {
     "data": {
      "text/plain": [
       "\n",
       "\tShapiro-Wilk normality test\n",
       "\n",
       "data:  y\n",
       "W = 0.97079, p-value = 0.9042\n"
      ]
     },
     "metadata": {},
     "output_type": "display_data"
    },
    {
     "data": {
      "text/plain": [
       "\n",
       "\tPaired t-test\n",
       "\n",
       "data:  x and y\n",
       "t = -3.1305, df = 7, p-value = 0.0166\n",
       "alternative hypothesis: true difference in means is not equal to 0\n",
       "95 percent confidence interval:\n",
       " -6.1437303 -0.8562697\n",
       "sample estimates:\n",
       "mean of the differences \n",
       "                   -3.5 \n"
      ]
     },
     "metadata": {},
     "output_type": "display_data"
    }
   ],
   "source": [
    "x <- c(52,60,63,43,46,56,62,50)\n",
    "y <- c(58, 62,62,48,50,55,68,57)\n",
    "shapiro.test(x)\n",
    "shapiro.test(y)\n",
    "t.test(x,y,paired=TRUE)"
   ]
  },
  {
   "cell_type": "code",
   "execution_count": 12,
   "metadata": {},
   "outputs": [
    {
     "data": {
      "text/plain": [
       "\n",
       "\tShapiro-Wilk normality test\n",
       "\n",
       "data:  x\n",
       "W = 0.98278, p-value = 0.9489\n"
      ]
     },
     "metadata": {},
     "output_type": "display_data"
    },
    {
     "data": {
      "text/plain": [
       "\n",
       "\tShapiro-Wilk normality test\n",
       "\n",
       "data:  y\n",
       "W = 0.98676, p-value = 0.9672\n"
      ]
     },
     "metadata": {},
     "output_type": "display_data"
    },
    {
     "data": {
      "text/plain": [
       "\n",
       "\tShapiro-Wilk normality test\n",
       "\n",
       "data:  z\n",
       "W = 0.90442, p-value = 0.4348\n"
      ]
     },
     "metadata": {},
     "output_type": "display_data"
    }
   ],
   "source": [
    "x <- c(1.09, 2.12, 2.92, 4.06, 4.90)\n",
    "y <-c(1,2,3,4,5)\n",
    "z <-c(1.10, 1.96, 3.98, 4.09, 4.92)\n",
    "shapiro.test(x)\n",
    "shapiro.test(y)\n",
    "shapiro.test(z)\n"
   ]
  },
  {
   "cell_type": "code",
   "execution_count": 13,
   "metadata": {},
   "outputs": [
    {
     "data": {
      "text/html": [
       "<ol class=list-inline>\n",
       "\t<li>1</li>\n",
       "\t<li>1</li>\n",
       "\t<li>1</li>\n",
       "\t<li>1</li>\n",
       "\t<li>1</li>\n",
       "\t<li>2</li>\n",
       "\t<li>2</li>\n",
       "\t<li>2</li>\n",
       "\t<li>2</li>\n",
       "\t<li>2</li>\n",
       "\t<li>3</li>\n",
       "\t<li>3</li>\n",
       "\t<li>3</li>\n",
       "\t<li>3</li>\n",
       "\t<li>3</li>\n",
       "</ol>\n"
      ],
      "text/latex": [
       "\\begin{enumerate*}\n",
       "\\item 1\n",
       "\\item 1\n",
       "\\item 1\n",
       "\\item 1\n",
       "\\item 1\n",
       "\\item 2\n",
       "\\item 2\n",
       "\\item 2\n",
       "\\item 2\n",
       "\\item 2\n",
       "\\item 3\n",
       "\\item 3\n",
       "\\item 3\n",
       "\\item 3\n",
       "\\item 3\n",
       "\\end{enumerate*}\n"
      ],
      "text/markdown": [
       "1. 1\n",
       "2. 1\n",
       "3. 1\n",
       "4. 1\n",
       "5. 1\n",
       "6. 2\n",
       "7. 2\n",
       "8. 2\n",
       "9. 2\n",
       "10. 2\n",
       "11. 3\n",
       "12. 3\n",
       "13. 3\n",
       "14. 3\n",
       "15. 3\n",
       "\n",
       "\n"
      ],
      "text/plain": [
       " [1] 1 1 1 1 1 2 2 2 2 2 3 3 3 3 3"
      ]
     },
     "metadata": {},
     "output_type": "display_data"
    }
   ],
   "source": [
    "mydata <- c(x,y,z)\n",
    "group <-c(rep(1,5), rep(2,5), rep(3,5))\n",
    "group"
   ]
  },
  {
   "cell_type": "code",
   "execution_count": 14,
   "metadata": {},
   "outputs": [
    {
     "data": {
      "text/plain": [
       "\n",
       "\tOne-way analysis of means\n",
       "\n",
       "data:  mydata and group\n",
       "F = 0.027586, num df = 2, denom df = 12, p-value = 0.9729\n"
      ]
     },
     "metadata": {},
     "output_type": "display_data"
    }
   ],
   "source": [
    "oneway.test(mydata~group, var=T)"
   ]
  },
  {
   "cell_type": "code",
   "execution_count": 15,
   "metadata": {},
   "outputs": [
    {
     "data": {
      "text/plain": [
       "\n",
       "\tShapiro-Wilk normality test\n",
       "\n",
       "data:  x1\n",
       "W = 0.96211, p-value = 0.8366\n"
      ]
     },
     "metadata": {},
     "output_type": "display_data"
    },
    {
     "data": {
      "text/plain": [
       "\n",
       "\tShapiro-Wilk normality test\n",
       "\n",
       "data:  x2\n",
       "W = 0.93053, p-value = 0.5554\n"
      ]
     },
     "metadata": {},
     "output_type": "display_data"
    },
    {
     "data": {
      "text/plain": [
       "\n",
       "\tShapiro-Wilk normality test\n",
       "\n",
       "data:  x3\n",
       "W = 0.96707, p-value = 0.8766\n"
      ]
     },
     "metadata": {},
     "output_type": "display_data"
    },
    {
     "data": {
      "text/plain": [
       "\n",
       "\tShapiro-Wilk normality test\n",
       "\n",
       "data:  x4\n",
       "W = 0.97232, p-value = 0.9147\n"
      ]
     },
     "metadata": {},
     "output_type": "display_data"
    }
   ],
   "source": [
    "x1 <- c(23, 27, 24, 25, 29, 30, 26)\n",
    "x2 <- c(35,32,38,36,32,33,34)\n",
    "x3 <-c(36,41,38,39,40,38,39)\n",
    "x4 <-c(32, 30, 37,34,35,34,32)\n",
    "shapiro.test(x1)\n",
    "shapiro.test(x2)\n",
    "shapiro.test(x3)\n",
    "shapiro.test(x4)"
   ]
  },
  {
   "cell_type": "code",
   "execution_count": 16,
   "metadata": {},
   "outputs": [
    {
     "data": {
      "text/plain": [
       "\n",
       "\tOne-way analysis of means\n",
       "\n",
       "data:  mydata and group\n",
       "F = 38.352, num df = 3, denom df = 24, p-value = 2.581e-09\n"
      ]
     },
     "metadata": {},
     "output_type": "display_data"
    }
   ],
   "source": [
    "mydata <- c(x1,x2,x3,x4)\n",
    "group <- c(rep(1,7), rep(2,7), rep(3,7), rep(4,7))\n",
    "oneway.test(mydata~group, var=T)"
   ]
  },
  {
   "cell_type": "code",
   "execution_count": 17,
   "metadata": {},
   "outputs": [],
   "source": [
    "fruits1 <- read.csv(\"c:/r/love_fruits.csv\", header=T)"
   ]
  },
  {
   "cell_type": "code",
   "execution_count": 18,
   "metadata": {},
   "outputs": [
    {
     "data": {
      "text/html": [
       "<table>\n",
       "<thead><tr><th scope=col>이름</th><th scope=col>선호과일</th></tr></thead>\n",
       "<tbody>\n",
       "\t<tr><td>주시현</td><td>사과  </td></tr>\n",
       "\t<tr><td>김우진</td><td>바나나</td></tr>\n",
       "\t<tr><td>권승진</td><td>포도  </td></tr>\n",
       "\t<tr><td>김은경</td><td>복숭아</td></tr>\n",
       "\t<tr><td>김두호</td><td>체리  </td></tr>\n",
       "\t<tr><td>양성은</td><td>사과  </td></tr>\n",
       "</tbody>\n",
       "</table>\n"
      ],
      "text/latex": [
       "\\begin{tabular}{r|ll}\n",
       " 이름 & 선호과일\\\\\n",
       "\\hline\n",
       "\t 주시현 & 사과  \\\\\n",
       "\t 김우진 & 바나나\\\\\n",
       "\t 권승진 & 포도  \\\\\n",
       "\t 김은경 & 복숭아\\\\\n",
       "\t 김두호 & 체리  \\\\\n",
       "\t 양성은 & 사과  \\\\\n",
       "\\end{tabular}\n"
      ],
      "text/markdown": [
       "\n",
       "| 이름 | 선호과일 |\n",
       "|---|---|\n",
       "| 주시현 | 사과   |\n",
       "| 김우진 | 바나나 |\n",
       "| 권승진 | 포도   |\n",
       "| 김은경 | 복숭아 |\n",
       "| 김두호 | 체리   |\n",
       "| 양성은 | 사과   |\n",
       "\n"
      ],
      "text/plain": [
       "  이름   선호과일\n",
       "1 주시현 사과    \n",
       "2 김우진 바나나  \n",
       "3 권승진 포도    \n",
       "4 김은경 복숭아  \n",
       "5 김두호 체리    \n",
       "6 양성은 사과    "
      ]
     },
     "metadata": {},
     "output_type": "display_data"
    }
   ],
   "source": [
    "head(fruits1)"
   ]
  },
  {
   "cell_type": "code",
   "execution_count": 23,
   "metadata": {},
   "outputs": [
    {
     "data": {
      "text/plain": [
       "\n",
       "바나나 복숭아   사과   체리   포도 \n",
       "  9.68  35.48  12.90  25.81  16.13 "
      ]
     },
     "metadata": {},
     "output_type": "display_data"
    }
   ],
   "source": [
    "round(prop.table(table(fruits1$선호과일))*100,2)"
   ]
  },
  {
   "cell_type": "code",
   "execution_count": 24,
   "metadata": {},
   "outputs": [
    {
     "data": {
      "text/plain": [
       "\n",
       "바나나 복숭아   사과   체리   포도 \n",
       "     3     11      4      8      5 "
      ]
     },
     "metadata": {},
     "output_type": "display_data"
    },
    {
     "data": {
      "text/html": [
       "<table>\n",
       "<thead><tr><th></th><th scope=col>건수</th><th scope=col>비율</th></tr></thead>\n",
       "<tbody>\n",
       "\t<tr><th scope=row>바나나</th><td> 3   </td><td> 9.68</td></tr>\n",
       "\t<tr><th scope=row>복숭아</th><td>11   </td><td>35.48</td></tr>\n",
       "\t<tr><th scope=row>사과</th><td> 4   </td><td>12.90</td></tr>\n",
       "\t<tr><th scope=row>체리</th><td> 8   </td><td>25.81</td></tr>\n",
       "\t<tr><th scope=row>포도</th><td> 5   </td><td>16.13</td></tr>\n",
       "</tbody>\n",
       "</table>\n"
      ],
      "text/latex": [
       "\\begin{tabular}{r|ll}\n",
       "  & 건수 & 비율\\\\\n",
       "\\hline\n",
       "\t바나나 &  3    &  9.68\\\\\n",
       "\t복숭아 & 11    & 35.48\\\\\n",
       "\t사과 &  4    & 12.90\\\\\n",
       "\t체리 &  8    & 25.81\\\\\n",
       "\t포도 &  5    & 16.13\\\\\n",
       "\\end{tabular}\n"
      ],
      "text/markdown": [
       "\n",
       "| <!--/--> | 건수 | 비율 |\n",
       "|---|---|---|\n",
       "| 바나나 |  3    |  9.68 |\n",
       "| 복숭아 | 11    | 35.48 |\n",
       "| 사과 |  4    | 12.90 |\n",
       "| 체리 |  8    | 25.81 |\n",
       "| 포도 |  5    | 16.13 |\n",
       "\n"
      ],
      "text/plain": [
       "       건수 비율 \n",
       "바나나  3    9.68\n",
       "복숭아 11   35.48\n",
       "사과    4   12.90\n",
       "체리    8   25.81\n",
       "포도    5   16.13"
      ]
     },
     "metadata": {},
     "output_type": "display_data"
    }
   ],
   "source": [
    "table(fruits1$선호과일)\n",
    "count <- c(table(fruits1$선호과일))\n",
    "pct <- c(round(prop.table(table(fruits1$선호과일))*100,2))\n",
    "love_fruits <- data.frame(건수=count, 비율=pct)\n",
    "love_fruits"
   ]
  },
  {
   "cell_type": "code",
   "execution_count": 25,
   "metadata": {},
   "outputs": [
    {
     "data": {
      "image/png": "[encoded data removed]",
      "text/plain": [
       "plot without title"
      ]
     },
     "metadata": {},
     "output_type": "display_data"
    }
   ],
   "source": [
    "barplot(love_fruits$건수, names.arg=c(\"바나나\",\"복숭아\",\"사과\", \"체리\", \"포도\"),ylim =c(0,15), col=rainbow(5))"
   ]
  },
  {
   "cell_type": "code",
   "execution_count": 26,
   "metadata": {},
   "outputs": [
    {
     "data": {
      "text/html": [
       "0.997054485501581"
      ],
      "text/latex": [
       "0.997054485501581"
      ],
      "text/markdown": [
       "0.997054485501581"
      ],
      "text/plain": [
       "[1] 0.9970545"
      ]
     },
     "metadata": {},
     "output_type": "display_data"
    },
    {
     "data": {
      "text/plain": [
       "\n",
       "\tPearson's product-moment correlation\n",
       "\n",
       "data:  x and y\n",
       "t = 22.517, df = 3, p-value = 0.0001918\n",
       "alternative hypothesis: true correlation is not equal to 0\n",
       "95 percent confidence interval:\n",
       " 0.9539256 0.9998155\n",
       "sample estimates:\n",
       "      cor \n",
       "0.9970545 \n"
      ]
     },
     "metadata": {},
     "output_type": "display_data"
    }
   ],
   "source": [
    "x <- c(3,5,8,11,13)\n",
    "y <- c(1,2,3,4,5)\n",
    "cor(x,y)\n",
    "cor.test(x,y)"
   ]
  },
  {
   "cell_type": "code",
   "execution_count": 28,
   "metadata": {},
   "outputs": [
    {
     "data": {
      "image/png": "[encoded data removed]",
      "text/plain": [
       "plot without title"
      ]
     },
     "metadata": {},
     "output_type": "display_data"
    }
   ],
   "source": [
    "x <- c(110, 120, 130, 140, 150)\n",
    "y <- c(100, 105, 128, 115, 142)\n",
    "plot(x,y, pch=20, col=\"red\")\n",
    "line <- lm(y~x)\n",
    "abline(line, col=\"blue\")"
   ]
  },
  {
   "cell_type": "code",
   "execution_count": 30,
   "metadata": {},
   "outputs": [
    {
     "name": "stderr",
     "output_type": "stream",
     "text": [
      "The following objects are masked from score (pos = 3):\n",
      "\n",
      "    IQ, TV시청시간, 게임하는시간, 다니는학원수, 성적, 이름\n",
      "\n"
     ]
    }
   ],
   "source": [
    "score <- read.csv(\"c:/r/score.txt\", header=T, sep=\",\")\n",
    "attach(score)"
   ]
  },
  {
   "cell_type": "code",
   "execution_count": 31,
   "metadata": {},
   "outputs": [
    {
     "data": {
      "text/plain": [
       "\n",
       "Call:\n",
       "lm(formula = 성적 ~ IQ)\n",
       "\n",
       "Coefficients:\n",
       "(Intercept)           IQ  \n",
       "    -5.2918       0.6714  \n"
      ]
     },
     "metadata": {},
     "output_type": "display_data"
    }
   ],
   "source": [
    "lm1 <- lm(성적~IQ)\n",
    "lm1"
   ]
  },
  {
   "cell_type": "code",
   "execution_count": 32,
   "metadata": {},
   "outputs": [
    {
     "data": {
      "text/html": [
       "78.583"
      ],
      "text/latex": [
       "78.583"
      ],
      "text/markdown": [
       "78.583"
      ],
      "text/plain": [
       "[1] 78.583"
      ]
     },
     "metadata": {},
     "output_type": "display_data"
    }
   ],
   "source": [
    "y <- -5.292 + 0.671 * 125\n",
    "y"
   ]
  },
  {
   "cell_type": "code",
   "execution_count": 33,
   "metadata": {},
   "outputs": [
    {
     "data": {
      "image/png": "[encoded data removed]",
      "text/plain": [
       "plot without title"
      ]
     },
     "metadata": {},
     "output_type": "display_data"
    }
   ],
   "source": [
    "plot(IQ, 성적, pch=20, col=\"red\")\n",
    "abline(lm1, col=\"blue\")"
   ]
  },
  {
   "cell_type": "code",
   "execution_count": 34,
   "metadata": {},
   "outputs": [
    {
     "data": {
      "text/plain": [
       "\n",
       "Call:\n",
       "lm(formula = y ~ x)\n",
       "\n",
       "Residuals:\n",
       "    Min      1Q  Median      3Q     Max \n",
       "-3.5282 -1.2606 -0.1127  1.4401  2.9507 \n",
       "\n",
       "Coefficients:\n",
       "            Estimate Std. Error t value Pr(>|t|)  \n",
       "(Intercept)   6.3592     2.0723   3.069   0.0154 *\n",
       "x             0.5211     0.1709   3.049   0.0158 *\n",
       "---\n",
       "Signif. codes:  0 '***' 0.001 '**' 0.01 '*' 0.05 '.' 0.1 ' ' 1\n",
       "\n",
       "Residual standard error: 2.231 on 8 degrees of freedom\n",
       "Multiple R-squared:  0.5375,\tAdjusted R-squared:  0.4797 \n",
       "F-statistic: 9.296 on 1 and 8 DF,  p-value: 0.01585\n"
      ]
     },
     "metadata": {},
     "output_type": "display_data"
    }
   ],
   "source": [
    "x <- c(15, 10, 13, 7, 9, 8, 21, 9, 14, 8)\n",
    "y <- c(15, 14, 12, 8, 14, 7, 16, 10, 15, 12)\n",
    "out = lm(y~x)\n",
    "summary(out)"
   ]
  },
  {
   "cell_type": "code",
   "execution_count": null,
   "metadata": {},
   "outputs": [],
   "source": []
  }
 ],
 "metadata": {
  "kernelspec": {
   "display_name": "R",
   "language": "R",
   "name": "ir"
  },
  "language_info": {
   "codemirror_mode": "r",
   "file_extension": ".r",
   "mimetype": "text/x-r-source",
   "name": "R",
   "pygments_lexer": "r",
   "version": "3.6.1"
  }
 },
 "nbformat": 4,
 "nbformat_minor": 4
}
