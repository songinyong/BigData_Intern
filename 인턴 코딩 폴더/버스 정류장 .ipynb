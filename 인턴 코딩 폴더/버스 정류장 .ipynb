{
 "cells": [
  {
   "cell_type": "code",
   "execution_count": 9,
   "metadata": {},
   "outputs": [],
   "source": [
    "import requests; from urllib.parse import urlparse\n",
    "from urllib.request import urlopen\n",
    "import pandas as pd\n",
    "\n",
    "import re"
   ]
  },
  {
   "cell_type": "code",
   "execution_count": 52,
   "metadata": {},
   "outputs": [
    {
     "name": "stdout",
     "output_type": "stream",
     "text": [
      "<?xml version=\"1.0\" encoding=\"UTF-8\" standalone=\"yes\"?><response><header><resultCode>00</resultCode><resultMsg>NORMAL SERVICE.</resultMsg></header><body><items><item><gpslati>36.449863</gpslati><gpslong>127.428955</gpslong><nodeid>DJB8002133</nodeid><nodenm>신탄진역</nodenm><nodeno>52790</nodeno></item><item><gpslati>36.449253</gpslati><gpslong>127.42927</gpslong><nodeid>DJB8002134</nodeid><nodenm>신탄진역</nodenm><nodeno>52810</nodeno></item><item><gpslati>36.448536</gpslati><gpslong>127.44346</gpslong><nodeid>DJB8002135</nodeid><nodenm>금강로하스타워</nodenm><nodeno>53000</nodeno></item><item><gpslati>36.4489</gpslati><gpslong>127.44465</gpslong><nodeid>DJB8002136</nodeid><nodenm>금강로하스타워</nodenm><nodeno>52990</nodeno></item><item><gpslati>36.441025</gpslati><gpslong>127.42425</gpslong><nodeid>DJB8002137</nodeid><nodenm>신탄중앙중학교</nodenm><nodeno>52100</nodeno></item><item><gpslati>36.441338</gpslati><gpslong>127.424545</gpslong><nodeid>DJB8002138</nodeid><nodenm>신탄중앙중학교</nodenm><nodeno>52110</nodeno></item><item><gpslati>36.432716</gpslati><gpslong>127.42363</gpslong><nodeid>DJB8002139</nodeid><nodenm>신탄진한일병원</nodenm><nodeno>52260</nodeno></item><item><gpslati>36.43331</gpslati><gpslong>127.4238</gpslong><nodeid>DJB8002140</nodeid><nodenm>신탄진한일병원</nodenm><nodeno>52270</nodeno></item><item><gpslati>36.35838</gpslati><gpslong>127.304085</gpslong><nodeid>DJB8002141</nodeid><nodenm>덕명동하우스토리</nodenm><nodeno>41740</nodeno></item><item><gpslati>36.3583</gpslati><gpslong>127.303566</gpslong><nodeid>DJB8002142</nodeid><nodenm>덕명동운암네오미아</nodenm><nodeno>41750</nodeno></item></items><numOfRows>10</numOfRows><pageNo>1</pageNo><totalCount>2969</totalCount></body></response>\n"
     ]
    }
   ],
   "source": [
    "#데이터를 정상적으로 불러오는지 확인\n",
    "url = 'http://openapi.tago.go.kr/openapi/service/BusSttnInfoInqireService/getSttnNoList?{키}'\n",
    "result = requests.get(urlparse(url).geturl(), headers={})\n",
    "\n",
    "xml_obj = xml.text\n",
    "print(json_obj)\n",
    "#request.get_method = lambda: 'GET'\n",
    "#response_body = urlopen(request).read()\n",
    "#val = []\n",
    "#json_obj\n",
    "   # for document in json_obj['documents']:\n",
    "       # val = [document['address_name'], document['x'], document['y']]"
   ]
  },
  {
   "cell_type": "code",
   "execution_count": 62,
   "metadata": {},
   "outputs": [],
   "source": [
    "import requests\n",
    "from bs4 import BeautifulSoup\n",
    "import pandas as pd"
   ]
  },
  {
   "cell_type": "code",
   "execution_count": 104,
   "metadata": {},
   "outputs": [],
   "source": [
    "#함수 정리 \n",
    "\n",
    "def URL(y, x) :\n",
    "    url = \"\"\"\n",
    "http://openapi.tago.go.kr/openapi/service/BusSttnInfoInqireService/getCrdntPrxmtSttnList\n",
    "?ServiceKey={키}&\n",
    "gpsLati={}&gpsLong={}\"\"\".format(y,x)\n",
    "    \n",
    "    # 공백 제거해서 URL로 바꾸어줌\n",
    "    nospaceURL = re.sub('|\\t|\\r|\\n', '', url)\n",
    "    return nospaceURL\n",
    "\n",
    "def PageChange(url, num):\n",
    "    purl = url + '&pageNo=' + str(num)\n",
    "    nospaceURL = re.sub('|\\t|\\r|\\n', '', purl)\n",
    "    return nospaceURL\n",
    "\n",
    "def PageCount(url):\n",
    "    result = requests.get(urlparse(url).geturl(), headers={})\n",
    "\n",
    "    xml_obj = result.text\n",
    "    soup = BeautifulSoup(xml_obj, 'html.parser')\n",
    "\n",
    "    pages = soup.select_one('totalcount').get_text()\n",
    "    return pages\n",
    "def loopSearch(url):\n",
    "    list = []\n",
    "    pages = PageCount(url)\n",
    "    for i in range(1,int((int(pages)/10))+1):\n",
    "        url2 = PageChange(url, i)\n",
    "        result = requests.get(urlparse(url2).geturl(), headers={})\n",
    "\n",
    "        xml_obj = result.text\n",
    "        soup = BeautifulSoup(xml_obj, 'html.parser')\n",
    "        item = soup.select('item')\n",
    "        for info in item:\n",
    "    \n",
    "            list.append(info.select_one('nodenm').get_text())\n",
    "            list.append(info.select_one('nodeid').get_text())\n",
    "            list.append(info.select_one('gpslati').get_text())\n",
    "            list.append(info.select_one('gpslong').get_text())\n",
    "    \n",
    "    return list\n",
    "\n",
    "\n",
    "def makeFrame(list):\n",
    "    df = pd.DataFrame(columns= ['name', 'ID', 'y', 'x'])\n",
    "    nm = []\n",
    "    ID = []\n",
    "    Y = []\n",
    "    X = []\n",
    "    for i in range(0, len(list)):\n",
    "        \n",
    "        if i%4 == 0 :\n",
    "            nm.append(list[i])\n",
    "        elif i%4 == 1:\n",
    "            ID.append(list[i])\n",
    "        elif i%4 == 2:\n",
    "            Y.append(list[i])\n",
    "        elif i%4 == 3:\n",
    "            X.append(list[i])\n",
    "    df['name'] = nm\n",
    "    df['ID'] = ID\n",
    "    df['y'] = Y\n",
    "    df['x'] = X\n",
    "    return df"
   ]
  },
  {
   "cell_type": "code",
   "execution_count": 147,
   "metadata": {},
   "outputs": [
    {
     "name": "stdout",
     "output_type": "stream",
     "text": [
      "127.4217747\n"
     ]
    }
   ],
   "source": [
    "# 1단계 역 근처 정류장들 불러오기\n",
    "\n",
    "\n",
    "step1 = pd.read_csv('C:/Extracting/raw/step1.csv')\n",
    "i = step1['x'].count()\n",
    "count = int(i)\n",
    "print(step1['x'][2])\n",
    "\n",
    "for j in range(0, count) :\n",
    "    url2 = URL(step1['y'][j],step1['x'][j])\n",
    "    list = loopSearch(url2)     \n",
    "    bus_stop=makeFrame(list)\n",
    "    bus_stop.to_csv('C:\\Extracting\\{}.csv'.format(step1['name'][j]), sep=',',encoding='utf-8-sig')"
   ]
  },
  {
   "cell_type": "code",
   "execution_count": 3,
   "metadata": {},
   "outputs": [],
   "source": [
    "#도시 코드 구해오는 api\n",
    "#대전은 25임을 확인\n",
    "\n",
    "url = 'http://openapi.tago.go.kr/openapi/service/BusSttnInfoInqireService/getCtyCodeList?ServiceKey=키'\n",
    "result = requests.get(urlparse(url).geturl(), headers={})\n",
    "\n",
    "xml_obj = result.text\n",
    "#print(xml_obj)\n"
   ]
  },
  {
   "cell_type": "code",
   "execution_count": null,
   "metadata": {},
   "outputs": [],
   "source": [
    "\"\"\"\n",
    "정규 표현식으로 태크 추출 \n",
    "잘 안먹혀서 BeautifulSoup 사용하기로함\n",
    "\n",
    "#xml 태그에서 <body> 태그 값만 저장 \n",
    "#body = re.search('<body.*/body>', xml_obj, re.I|re.S)\n",
    "#print(body)\n",
    "#xml 태그에서 필요한 <totalCount>\n",
    "Pages = re.search('<body><response><totalCount>*</totalCount></body></response>', xml_obj, re.I|re.S)\n",
    "\n",
    "\n",
    "#print(xml_obj)\n",
    "print(Pages)\n",
    "\"\"\""
   ]
  }
 ],
 "metadata": {
  "kernelspec": {
   "display_name": "Python 3",
   "language": "python",
   "name": "python3"
  },
  "language_info": {
   "codemirror_mode": {
    "name": "ipython",
    "version": 3
   },
   "file_extension": ".py",
   "mimetype": "text/x-python",
   "name": "python",
   "nbconvert_exporter": "python",
   "pygments_lexer": "ipython3",
   "version": "3.8.3"
  }
 },
 "nbformat": 4,
 "nbformat_minor": 4
}
